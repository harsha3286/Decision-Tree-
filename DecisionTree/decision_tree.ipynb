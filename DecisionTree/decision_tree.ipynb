{
  "cells": [
    {
      "cell_type": "code",
      "execution_count": 27,
      "metadata": {
        "id": "_HggmSY94GGj"
      },
      "outputs": [],
      "source": [
        "import numpy as np\n",
        "import pandas as pd\n",
        "import matplotlib.pyplot as mtp\n",
        "from math import*\n",
        "from graphviz import Digraph\n",
        "from sklearn.model_selection import train_test_split"
      ]
    },
    {
      "cell_type": "code",
      "execution_count": 28,
      "metadata": {
        "id": "xwqaV6QB7rYF"
      },
      "outputs": [],
      "source": [
        "import copy"
      ]
    },
    {
      "cell_type": "code",
      "execution_count": 29,
      "metadata": {
        "id": "f1Y_NRxtPIhK"
      },
      "outputs": [],
      "source": [
        "target=\"result\""
      ]
    },
    {
      "cell_type": "code",
      "execution_count": 30,
      "metadata": {
        "id": "7ab8G-wS7zkN",
        "outputId": "0e131eb6-1778-44d9-94fc-ab13de01506a",
        "colab": {
          "base_uri": "https://localhost:8080/",
          "height": 802
        }
      },
      "outputs": [
        {
          "output_type": "execute_result",
          "data": {
            "text/plain": [
              "               age     spectacle astigmatic     tear result\n",
              "0            young         myope       fine  reduced     no\n",
              "1            young         myope       fine   normal    yes\n",
              "2            young         myope    notfine  reduced     no\n",
              "3            young         myope    notfine   normal     no\n",
              "4            young  hypermetrope       fine  reduced     no\n",
              "5            young  hypermetrope       fine   normal    yes\n",
              "6            young  hypermetrope    notfine  reduced     no\n",
              "7            young  hypermetrope    notfine   normal     no\n",
              "8   pre-presbyopic         myope       fine  reduced     no\n",
              "9   pre-presbyopic         myope       fine   normal    yes\n",
              "10  pre-presbyopic         myope    notfine  reduced     no\n",
              "11  pre-presbyopic         myope    notfine   normal    yes\n",
              "12  pre-presbyopic  hypermetrope       fine  reduced     no\n",
              "13  pre-presbyopic  hypermetrope       fine   normal    yes\n",
              "14  pre-presbyopic  hypermetrope    notfine  reduced     no\n",
              "15  pre-presbyopic  hypermetrope    notfine   normal     no\n",
              "16      presbyopic         myope       fine  reduced     no\n",
              "17      presbyopic         myope       fine   normal     no\n",
              "18      presbyopic         myope    notfine  reduced     no\n",
              "19      presbyopic         myope    notfine   normal    yes\n",
              "20      presbyopic  hypermetrope       fine  reduced     no\n",
              "21      presbyopic  hypermetrope       fine   normal    yes\n",
              "22      presbyopic  hypermetrope    notfine  reduced     no\n",
              "23      presbyopic  hypermetrope    notfine   normal     no"
            ],
            "text/html": [
              "\n",
              "  <div id=\"df-bdc3f3dc-a6f1-48c7-abf0-3bac4619488f\">\n",
              "    <div class=\"colab-df-container\">\n",
              "      <div>\n",
              "<style scoped>\n",
              "    .dataframe tbody tr th:only-of-type {\n",
              "        vertical-align: middle;\n",
              "    }\n",
              "\n",
              "    .dataframe tbody tr th {\n",
              "        vertical-align: top;\n",
              "    }\n",
              "\n",
              "    .dataframe thead th {\n",
              "        text-align: right;\n",
              "    }\n",
              "</style>\n",
              "<table border=\"1\" class=\"dataframe\">\n",
              "  <thead>\n",
              "    <tr style=\"text-align: right;\">\n",
              "      <th></th>\n",
              "      <th>age</th>\n",
              "      <th>spectacle</th>\n",
              "      <th>astigmatic</th>\n",
              "      <th>tear</th>\n",
              "      <th>result</th>\n",
              "    </tr>\n",
              "  </thead>\n",
              "  <tbody>\n",
              "    <tr>\n",
              "      <th>0</th>\n",
              "      <td>young</td>\n",
              "      <td>myope</td>\n",
              "      <td>fine</td>\n",
              "      <td>reduced</td>\n",
              "      <td>no</td>\n",
              "    </tr>\n",
              "    <tr>\n",
              "      <th>1</th>\n",
              "      <td>young</td>\n",
              "      <td>myope</td>\n",
              "      <td>fine</td>\n",
              "      <td>normal</td>\n",
              "      <td>yes</td>\n",
              "    </tr>\n",
              "    <tr>\n",
              "      <th>2</th>\n",
              "      <td>young</td>\n",
              "      <td>myope</td>\n",
              "      <td>notfine</td>\n",
              "      <td>reduced</td>\n",
              "      <td>no</td>\n",
              "    </tr>\n",
              "    <tr>\n",
              "      <th>3</th>\n",
              "      <td>young</td>\n",
              "      <td>myope</td>\n",
              "      <td>notfine</td>\n",
              "      <td>normal</td>\n",
              "      <td>no</td>\n",
              "    </tr>\n",
              "    <tr>\n",
              "      <th>4</th>\n",
              "      <td>young</td>\n",
              "      <td>hypermetrope</td>\n",
              "      <td>fine</td>\n",
              "      <td>reduced</td>\n",
              "      <td>no</td>\n",
              "    </tr>\n",
              "    <tr>\n",
              "      <th>5</th>\n",
              "      <td>young</td>\n",
              "      <td>hypermetrope</td>\n",
              "      <td>fine</td>\n",
              "      <td>normal</td>\n",
              "      <td>yes</td>\n",
              "    </tr>\n",
              "    <tr>\n",
              "      <th>6</th>\n",
              "      <td>young</td>\n",
              "      <td>hypermetrope</td>\n",
              "      <td>notfine</td>\n",
              "      <td>reduced</td>\n",
              "      <td>no</td>\n",
              "    </tr>\n",
              "    <tr>\n",
              "      <th>7</th>\n",
              "      <td>young</td>\n",
              "      <td>hypermetrope</td>\n",
              "      <td>notfine</td>\n",
              "      <td>normal</td>\n",
              "      <td>no</td>\n",
              "    </tr>\n",
              "    <tr>\n",
              "      <th>8</th>\n",
              "      <td>pre-presbyopic</td>\n",
              "      <td>myope</td>\n",
              "      <td>fine</td>\n",
              "      <td>reduced</td>\n",
              "      <td>no</td>\n",
              "    </tr>\n",
              "    <tr>\n",
              "      <th>9</th>\n",
              "      <td>pre-presbyopic</td>\n",
              "      <td>myope</td>\n",
              "      <td>fine</td>\n",
              "      <td>normal</td>\n",
              "      <td>yes</td>\n",
              "    </tr>\n",
              "    <tr>\n",
              "      <th>10</th>\n",
              "      <td>pre-presbyopic</td>\n",
              "      <td>myope</td>\n",
              "      <td>notfine</td>\n",
              "      <td>reduced</td>\n",
              "      <td>no</td>\n",
              "    </tr>\n",
              "    <tr>\n",
              "      <th>11</th>\n",
              "      <td>pre-presbyopic</td>\n",
              "      <td>myope</td>\n",
              "      <td>notfine</td>\n",
              "      <td>normal</td>\n",
              "      <td>yes</td>\n",
              "    </tr>\n",
              "    <tr>\n",
              "      <th>12</th>\n",
              "      <td>pre-presbyopic</td>\n",
              "      <td>hypermetrope</td>\n",
              "      <td>fine</td>\n",
              "      <td>reduced</td>\n",
              "      <td>no</td>\n",
              "    </tr>\n",
              "    <tr>\n",
              "      <th>13</th>\n",
              "      <td>pre-presbyopic</td>\n",
              "      <td>hypermetrope</td>\n",
              "      <td>fine</td>\n",
              "      <td>normal</td>\n",
              "      <td>yes</td>\n",
              "    </tr>\n",
              "    <tr>\n",
              "      <th>14</th>\n",
              "      <td>pre-presbyopic</td>\n",
              "      <td>hypermetrope</td>\n",
              "      <td>notfine</td>\n",
              "      <td>reduced</td>\n",
              "      <td>no</td>\n",
              "    </tr>\n",
              "    <tr>\n",
              "      <th>15</th>\n",
              "      <td>pre-presbyopic</td>\n",
              "      <td>hypermetrope</td>\n",
              "      <td>notfine</td>\n",
              "      <td>normal</td>\n",
              "      <td>no</td>\n",
              "    </tr>\n",
              "    <tr>\n",
              "      <th>16</th>\n",
              "      <td>presbyopic</td>\n",
              "      <td>myope</td>\n",
              "      <td>fine</td>\n",
              "      <td>reduced</td>\n",
              "      <td>no</td>\n",
              "    </tr>\n",
              "    <tr>\n",
              "      <th>17</th>\n",
              "      <td>presbyopic</td>\n",
              "      <td>myope</td>\n",
              "      <td>fine</td>\n",
              "      <td>normal</td>\n",
              "      <td>no</td>\n",
              "    </tr>\n",
              "    <tr>\n",
              "      <th>18</th>\n",
              "      <td>presbyopic</td>\n",
              "      <td>myope</td>\n",
              "      <td>notfine</td>\n",
              "      <td>reduced</td>\n",
              "      <td>no</td>\n",
              "    </tr>\n",
              "    <tr>\n",
              "      <th>19</th>\n",
              "      <td>presbyopic</td>\n",
              "      <td>myope</td>\n",
              "      <td>notfine</td>\n",
              "      <td>normal</td>\n",
              "      <td>yes</td>\n",
              "    </tr>\n",
              "    <tr>\n",
              "      <th>20</th>\n",
              "      <td>presbyopic</td>\n",
              "      <td>hypermetrope</td>\n",
              "      <td>fine</td>\n",
              "      <td>reduced</td>\n",
              "      <td>no</td>\n",
              "    </tr>\n",
              "    <tr>\n",
              "      <th>21</th>\n",
              "      <td>presbyopic</td>\n",
              "      <td>hypermetrope</td>\n",
              "      <td>fine</td>\n",
              "      <td>normal</td>\n",
              "      <td>yes</td>\n",
              "    </tr>\n",
              "    <tr>\n",
              "      <th>22</th>\n",
              "      <td>presbyopic</td>\n",
              "      <td>hypermetrope</td>\n",
              "      <td>notfine</td>\n",
              "      <td>reduced</td>\n",
              "      <td>no</td>\n",
              "    </tr>\n",
              "    <tr>\n",
              "      <th>23</th>\n",
              "      <td>presbyopic</td>\n",
              "      <td>hypermetrope</td>\n",
              "      <td>notfine</td>\n",
              "      <td>normal</td>\n",
              "      <td>no</td>\n",
              "    </tr>\n",
              "  </tbody>\n",
              "</table>\n",
              "</div>\n",
              "      <button class=\"colab-df-convert\" onclick=\"convertToInteractive('df-bdc3f3dc-a6f1-48c7-abf0-3bac4619488f')\"\n",
              "              title=\"Convert this dataframe to an interactive table.\"\n",
              "              style=\"display:none;\">\n",
              "        \n",
              "  <svg xmlns=\"http://www.w3.org/2000/svg\" height=\"24px\"viewBox=\"0 0 24 24\"\n",
              "       width=\"24px\">\n",
              "    <path d=\"M0 0h24v24H0V0z\" fill=\"none\"/>\n",
              "    <path d=\"M18.56 5.44l.94 2.06.94-2.06 2.06-.94-2.06-.94-.94-2.06-.94 2.06-2.06.94zm-11 1L8.5 8.5l.94-2.06 2.06-.94-2.06-.94L8.5 2.5l-.94 2.06-2.06.94zm10 10l.94 2.06.94-2.06 2.06-.94-2.06-.94-.94-2.06-.94 2.06-2.06.94z\"/><path d=\"M17.41 7.96l-1.37-1.37c-.4-.4-.92-.59-1.43-.59-.52 0-1.04.2-1.43.59L10.3 9.45l-7.72 7.72c-.78.78-.78 2.05 0 2.83L4 21.41c.39.39.9.59 1.41.59.51 0 1.02-.2 1.41-.59l7.78-7.78 2.81-2.81c.8-.78.8-2.07 0-2.86zM5.41 20L4 18.59l7.72-7.72 1.47 1.35L5.41 20z\"/>\n",
              "  </svg>\n",
              "      </button>\n",
              "      \n",
              "  <style>\n",
              "    .colab-df-container {\n",
              "      display:flex;\n",
              "      flex-wrap:wrap;\n",
              "      gap: 12px;\n",
              "    }\n",
              "\n",
              "    .colab-df-convert {\n",
              "      background-color: #E8F0FE;\n",
              "      border: none;\n",
              "      border-radius: 50%;\n",
              "      cursor: pointer;\n",
              "      display: none;\n",
              "      fill: #1967D2;\n",
              "      height: 32px;\n",
              "      padding: 0 0 0 0;\n",
              "      width: 32px;\n",
              "    }\n",
              "\n",
              "    .colab-df-convert:hover {\n",
              "      background-color: #E2EBFA;\n",
              "      box-shadow: 0px 1px 2px rgba(60, 64, 67, 0.3), 0px 1px 3px 1px rgba(60, 64, 67, 0.15);\n",
              "      fill: #174EA6;\n",
              "    }\n",
              "\n",
              "    [theme=dark] .colab-df-convert {\n",
              "      background-color: #3B4455;\n",
              "      fill: #D2E3FC;\n",
              "    }\n",
              "\n",
              "    [theme=dark] .colab-df-convert:hover {\n",
              "      background-color: #434B5C;\n",
              "      box-shadow: 0px 1px 3px 1px rgba(0, 0, 0, 0.15);\n",
              "      filter: drop-shadow(0px 1px 2px rgba(0, 0, 0, 0.3));\n",
              "      fill: #FFFFFF;\n",
              "    }\n",
              "  </style>\n",
              "\n",
              "      <script>\n",
              "        const buttonEl =\n",
              "          document.querySelector('#df-bdc3f3dc-a6f1-48c7-abf0-3bac4619488f button.colab-df-convert');\n",
              "        buttonEl.style.display =\n",
              "          google.colab.kernel.accessAllowed ? 'block' : 'none';\n",
              "\n",
              "        async function convertToInteractive(key) {\n",
              "          const element = document.querySelector('#df-bdc3f3dc-a6f1-48c7-abf0-3bac4619488f');\n",
              "          const dataTable =\n",
              "            await google.colab.kernel.invokeFunction('convertToInteractive',\n",
              "                                                     [key], {});\n",
              "          if (!dataTable) return;\n",
              "\n",
              "          const docLinkHtml = 'Like what you see? Visit the ' +\n",
              "            '<a target=\"_blank\" href=https://colab.research.google.com/notebooks/data_table.ipynb>data table notebook</a>'\n",
              "            + ' to learn more about interactive tables.';\n",
              "          element.innerHTML = '';\n",
              "          dataTable['output_type'] = 'display_data';\n",
              "          await google.colab.output.renderOutput(dataTable, element);\n",
              "          const docLink = document.createElement('div');\n",
              "          docLink.innerHTML = docLinkHtml;\n",
              "          element.appendChild(docLink);\n",
              "        }\n",
              "      </script>\n",
              "    </div>\n",
              "  </div>\n",
              "  "
            ]
          },
          "metadata": {},
          "execution_count": 30
        }
      ],
      "source": [
        "from pandas.io.parsers.readers import read_csv\n",
        "data=pd.read_csv(\"/content/lenses.csv\")\n",
        "data.applymap(lambda x: x.strip() if isinstance(x, str) else x)\n",
        "#data[target]=data[target].str.strip()"
      ]
    },
    {
      "cell_type": "code",
      "execution_count": 31,
      "metadata": {
        "id": "igHJnUDL73qY"
      },
      "outputs": [],
      "source": [
        "#test_data=pd.read_csv(\"/content/anv.csv\")"
      ]
    },
    {
      "cell_type": "code",
      "execution_count": 32,
      "metadata": {
        "id": "-ULzyjK_8DXK"
      },
      "outputs": [],
      "source": [
        "df2=pd.DataFrame(data)\n",
        "\n"
      ]
    },
    {
      "cell_type": "code",
      "execution_count": 33,
      "metadata": {
        "id": "-PHeVhHLjdhv",
        "colab": {
          "base_uri": "https://localhost:8080/"
        },
        "outputId": "839e37c0-1784-41f2-abef-41eea05d20fd"
      },
      "outputs": [
        {
          "output_type": "stream",
          "name": "stdout",
          "text": [
            "16 8\n"
          ]
        }
      ],
      "source": [
        "df, testing_data = train_test_split(df2, test_size=0.3)\n",
        "print(len(df),len(testing_data))"
      ]
    },
    {
      "cell_type": "code",
      "execution_count": 34,
      "metadata": {
        "id": "WhremppuggCJ",
        "colab": {
          "base_uri": "https://localhost:8080/"
        },
        "outputId": "61351501-6c48-4873-b783-224833997703"
      },
      "outputs": [
        {
          "output_type": "stream",
          "name": "stdout",
          "text": [
            "['no' 'yes']\n"
          ]
        }
      ],
      "source": [
        "bin=df[target].unique()\n",
        "print(bin)"
      ]
    },
    {
      "cell_type": "code",
      "execution_count": 35,
      "metadata": {
        "id": "aGo4Pj7I78zm"
      },
      "outputs": [],
      "source": [
        "class node:\n",
        "  def __init__ (self,ig,name):\n",
        "    self.ig=ig\n",
        "    self.name=name\n",
        "    self.child=[]\n",
        "    self.edges=[]\n",
        "  def insert_child(self,node):\n",
        "    self.child.append(node)\n",
        "  def insert_edge(self,node):\n",
        "    self.edges.append(node)"
      ]
    },
    {
      "cell_type": "code",
      "execution_count": 36,
      "metadata": {
        "id": "D7GZhbTjp7E6"
      },
      "outputs": [],
      "source": [
        "# IDEA COPIED FROM SIDDHARTHA\n",
        "def node_test(df,main_root):\n",
        "  out=[]\n",
        "  node=main_root\n",
        "  for i in range (len(df)):\n",
        "    v=df.iloc[i].to_dict()\n",
        "    out.append(node_next_test(v,node))\n",
        "  return out\n",
        "    \n",
        "  \n",
        "\n",
        "\n"
      ]
    },
    {
      "cell_type": "code",
      "execution_count": 37,
      "metadata": {
        "id": "Va5B7vf68Ve4"
      },
      "outputs": [],
      "source": [
        "# IDEA COPIED FROM SIDDHARTHA\n",
        "def node_next_test(ins,node):\n",
        "  if  node.child==[] :\n",
        "    return node.name\n",
        "  val=ins[node.name]\n",
        "  try:\n",
        "    ind=node.edges.index(val)\n",
        "    return node_next_test(ins,node.child[ind])\n",
        "  except:\n",
        "    return \"Not valid instance\"\n"
      ]
    },
    {
      "cell_type": "code",
      "execution_count": 38,
      "metadata": {
        "id": "4TfX82WpEcAE"
      },
      "outputs": [],
      "source": [
        "def entropy(pos,n):\n",
        "  p=pos/n\n",
        "  if p==1 or p==0:\n",
        "    return 0\n",
        "  return -p*log(p,2)-((1-p)*log(1-p,2))"
      ]
    },
    {
      "cell_type": "code",
      "execution_count": 39,
      "metadata": {
        "id": "uYuAbtM3Eufn"
      },
      "outputs": [],
      "source": [
        "def informationGain(p,n,lt):\n",
        "  ig= entropy(p)\n",
        "  for i in range(len(lt)):\n",
        "    ig -=(lt[i][0]*entropy(lt[i][1]))/n\n",
        "  return ig"
      ]
    },
    {
      "cell_type": "code",
      "execution_count": 40,
      "metadata": {
        "id": "dl_MUzflFBVA",
        "colab": {
          "base_uri": "https://localhost:8080/"
        },
        "outputId": "01ee86fa-4dd8-4d37-d5ff-cf8875cb1cd3"
      },
      "outputs": [
        {
          "output_type": "stream",
          "name": "stdout",
          "text": [
            "['age', 'spectacle', 'astigmatic', 'tear']\n"
          ]
        }
      ],
      "source": [
        "a=list(df.columns)\n",
        "a.remove(target)\n",
        "print(a)"
      ]
    },
    {
      "cell_type": "code",
      "execution_count": 41,
      "metadata": {
        "id": "GHAsvrYdKu-n"
      },
      "outputs": [],
      "source": [
        "g=Digraph()\n",
        "cnt=0\n",
        "main_root=None"
      ]
    },
    {
      "cell_type": "code",
      "execution_count": 42,
      "metadata": {
        "id": "TQRcUjPOJ6pw"
      },
      "outputs": [],
      "source": [
        "def decision(df):\n",
        "  global bin\n",
        "  global main_root\n",
        "  # STORING INFORMATION GAIN\n",
        "  maxentropy =[-1,\"\"]\n",
        "  c1=df[df[target]==bin[0]].count()[0]\n",
        "  e=entropy(c1,df.count()[0])\n",
        "  z=list(df.columns)\n",
        "  a=copy.deepcopy(z)\n",
        "  #DELETING PARENT ROOT FROM COLUMN\n",
        "  a.remove(target)\n",
        "  for i in a:\n",
        "    u=df[i].unique()\n",
        "    sum=0\n",
        "    for j in u:\n",
        "      c=df[df[i]==j][df[target]==bin[0]].count()[0]\n",
        "      e1=entropy(c,df[df[i]==j].count()[0])*df[df[i]==j].count()[0]/df.count()[0]\n",
        "      sum+=e1\n",
        "    f=e-sum\n",
        "    # print(i,f)\n",
        "    if maxentropy[0]<f:\n",
        "      maxentropy=[f,i]\n",
        "  # CREATING NODE FOR MAX IG ATTRIBUTE\n",
        "  nd=node(maxentropy[0],maxentropy[1])\n",
        "  root=node(maxentropy[0],maxentropy[1])\n",
        "  main_root=root\n",
        "  g.node(maxentropy[1],maxentropy[1])\n",
        "  a.remove(root.name)\n",
        "  #PASSING NODE TO FIND NEXT NODE\n",
        "  next_node(df,a,root)\n",
        "  \n"
      ]
    },
    {
      "cell_type": "code",
      "execution_count": 43,
      "metadata": {
        "id": "dZA9d7iKNsOk"
      },
      "outputs": [],
      "source": [
        "def next_node(df,a,parent):\n",
        "  global cnt\n",
        "  \n",
        "  c1=df[target].value_counts()[bin[0]]\n",
        "  e=entropy(c1,df.count()[0])\n",
        "  temp=df\n",
        "  val=list(df[parent.name].unique())\n",
        "  for j in val:\n",
        "    df=temp\n",
        "    df=df[df[parent.name]==j]\n",
        "    e=entropy(df[df[target]==bin[0]].count()[0],df.count()[0])\n",
        "    if e==0:\n",
        "      for d in range(len(bin)):\n",
        "        if df[df[target]==bin[d]].count()[0]==df.count()[0]:\n",
        "          value=bin[d]\n",
        "      # if df[df[target]==bin[0]].count()[0]==df.count()[0]:\n",
        "      #   value=bin[0]\n",
        "      # else:\n",
        "      #   value=bin[1]\n",
        "      g.node(value+str(cnt),value)\n",
        "      parent.insert_edge(j)\n",
        "      nd=node(0,value)\n",
        "      parent.insert_child(nd)\n",
        "      g.edge(parent.name,value+str(cnt),label=j)  \n",
        "      cnt+=1\n",
        "      continue\n",
        "    maxentropy =[-1,\"\"]\n",
        "    for i in a:\n",
        "      sum=0\n",
        "      u=df[i].unique()\n",
        "      for k in u:\n",
        "        c=df[df[i]==k][df[target]==bin[0]].count()[0]        \n",
        "        e1=entropy(c,df[df[i]==k].count()[0])*df[df[i]==k].count()[0]/df.count()[0]\n",
        "        sum+=e1\n",
        "      f=e-sum\n",
        "      \n",
        "      if maxentropy[0]<f:\n",
        "        maxentropy=[f,i]\n",
        "\n",
        "    nd=node(maxentropy[0],maxentropy[1])\n",
        "    #print(parent.name,j,nd.name)\n",
        "    g.node(maxentropy[1],maxentropy[1])\n",
        "    parent.insert_child(nd)\n",
        "    parent.insert_edge(j)\n",
        "    g.edge(parent.name,maxentropy[1],label=j)\n",
        "\n",
        "    \n",
        "\n",
        "    a2=copy.deepcopy(a)\n",
        "    a2.remove(nd.name)\n",
        "    next_node(df[df[parent.name]==j],a2,nd)\n",
        "\n"
      ]
    },
    {
      "cell_type": "code",
      "execution_count": 44,
      "metadata": {
        "id": "8N-E5hwpshp6",
        "colab": {
          "base_uri": "https://localhost:8080/"
        },
        "outputId": "ea1021cd-4e8a-4003-91b1-3b8f85b7b845"
      },
      "outputs": [
        {
          "output_type": "stream",
          "name": "stderr",
          "text": [
            "/usr/local/lib/python3.7/dist-packages/ipykernel_launcher.py:16: UserWarning: Boolean Series key will be reindexed to match DataFrame index.\n",
            "  app.launch_new_instance()\n",
            "/usr/local/lib/python3.7/dist-packages/ipykernel_launcher.py:32: UserWarning: Boolean Series key will be reindexed to match DataFrame index.\n"
          ]
        }
      ],
      "source": [
        "decision(df)"
      ]
    },
    {
      "cell_type": "code",
      "execution_count": 45,
      "metadata": {
        "id": "QF7bmzEfsm49",
        "colab": {
          "base_uri": "https://localhost:8080/",
          "height": 428
        },
        "outputId": "5c0c3686-00a4-4c85-cd3c-c2795544e7b2"
      },
      "outputs": [
        {
          "output_type": "execute_result",
          "data": {
            "text/plain": [
              "<graphviz.dot.Digraph at 0x7fa771378950>"
            ],
            "image/svg+xml": "<?xml version=\"1.0\" encoding=\"UTF-8\" standalone=\"no\"?>\n<!DOCTYPE svg PUBLIC \"-//W3C//DTD SVG 1.1//EN\"\n \"http://www.w3.org/Graphics/SVG/1.1/DTD/svg11.dtd\">\n<!-- Generated by graphviz version 2.40.1 (20161225.0304)\n -->\n<!-- Title: %3 Pages: 1 -->\n<svg width=\"270pt\" height=\"305pt\"\n viewBox=\"0.00 0.00 270.00 305.00\" xmlns=\"http://www.w3.org/2000/svg\" xmlns:xlink=\"http://www.w3.org/1999/xlink\">\n<g id=\"graph0\" class=\"graph\" transform=\"scale(1 1) rotate(0) translate(4 301)\">\n<title>%3</title>\n<polygon fill=\"#ffffff\" stroke=\"transparent\" points=\"-4,4 -4,-301 266,-301 266,4 -4,4\"/>\n<!-- tear -->\n<g id=\"node1\" class=\"node\">\n<title>tear</title>\n<ellipse fill=\"none\" stroke=\"#000000\" cx=\"82\" cy=\"-279\" rx=\"27\" ry=\"18\"/>\n<text text-anchor=\"middle\" x=\"82\" y=\"-275.3\" font-family=\"Times,serif\" font-size=\"14.00\" fill=\"#000000\">tear</text>\n</g>\n<!-- no0 -->\n<g id=\"node2\" class=\"node\">\n<title>no0</title>\n<ellipse fill=\"none\" stroke=\"#000000\" cx=\"48\" cy=\"-192\" rx=\"27\" ry=\"18\"/>\n<text text-anchor=\"middle\" x=\"48\" y=\"-188.3\" font-family=\"Times,serif\" font-size=\"14.00\" fill=\"#000000\">no</text>\n</g>\n<!-- tear&#45;&gt;no0 -->\n<g id=\"edge1\" class=\"edge\">\n<title>tear&#45;&gt;no0</title>\n<path fill=\"none\" stroke=\"#000000\" d=\"M64.9893,-264.5285C59.1399,-258.5208 53.2493,-251.0669 50,-243 47.1647,-235.961 46.0026,-227.924 45.7114,-220.3445\"/>\n<polygon fill=\"#000000\" stroke=\"#000000\" points=\"49.2134,-220.1144 45.7963,-210.0858 42.2136,-220.0565 49.2134,-220.1144\"/>\n<text text-anchor=\"middle\" x=\"73\" y=\"-231.8\" font-family=\"Times,serif\" font-size=\"14.00\" fill=\"#000000\">reduced</text>\n</g>\n<!-- age -->\n<g id=\"node3\" class=\"node\">\n<title>age</title>\n<ellipse fill=\"none\" stroke=\"#000000\" cx=\"120\" cy=\"-192\" rx=\"27\" ry=\"18\"/>\n<text text-anchor=\"middle\" x=\"120\" y=\"-188.3\" font-family=\"Times,serif\" font-size=\"14.00\" fill=\"#000000\">age</text>\n</g>\n<!-- tear&#45;&gt;age -->\n<g id=\"edge2\" class=\"edge\">\n<title>tear&#45;&gt;age</title>\n<path fill=\"none\" stroke=\"#000000\" d=\"M89.6899,-261.3943C95.0299,-249.1683 102.2441,-232.6517 108.2946,-218.7992\"/>\n<polygon fill=\"#000000\" stroke=\"#000000\" points=\"111.6559,-219.8476 112.4513,-209.2827 105.2411,-217.0457 111.6559,-219.8476\"/>\n<text text-anchor=\"middle\" x=\"124.5\" y=\"-231.8\" font-family=\"Times,serif\" font-size=\"14.00\" fill=\"#000000\">normal</text>\n</g>\n<!-- no1 -->\n<g id=\"node4\" class=\"node\">\n<title>no1</title>\n<ellipse fill=\"none\" stroke=\"#000000\" cx=\"27\" cy=\"-105\" rx=\"27\" ry=\"18\"/>\n<text text-anchor=\"middle\" x=\"27\" y=\"-101.3\" font-family=\"Times,serif\" font-size=\"14.00\" fill=\"#000000\">no</text>\n</g>\n<!-- age&#45;&gt;no1 -->\n<g id=\"edge3\" class=\"edge\">\n<title>age&#45;&gt;no1</title>\n<path fill=\"none\" stroke=\"#000000\" d=\"M98.5415,-181.045C79.3084,-171.1634 53.8362,-157.8943 52,-156 45.4885,-149.2826 40.3697,-140.5394 36.5056,-132.1947\"/>\n<polygon fill=\"#000000\" stroke=\"#000000\" points=\"39.631,-130.5968 32.5377,-122.7269 33.175,-133.3025 39.631,-130.5968\"/>\n<text text-anchor=\"middle\" x=\"84\" y=\"-144.8\" font-family=\"Times,serif\" font-size=\"14.00\" fill=\"#000000\">presbyopic</text>\n</g>\n<!-- astigmatic -->\n<g id=\"node5\" class=\"node\">\n<title>astigmatic</title>\n<ellipse fill=\"none\" stroke=\"#000000\" cx=\"120\" cy=\"-105\" rx=\"48.1917\" ry=\"18\"/>\n<text text-anchor=\"middle\" x=\"120\" y=\"-101.3\" font-family=\"Times,serif\" font-size=\"14.00\" fill=\"#000000\">astigmatic</text>\n</g>\n<!-- age&#45;&gt;astigmatic -->\n<g id=\"edge4\" class=\"edge\">\n<title>age&#45;&gt;astigmatic</title>\n<path fill=\"none\" stroke=\"#000000\" d=\"M120,-173.9735C120,-162.1918 120,-146.5607 120,-133.1581\"/>\n<polygon fill=\"#000000\" stroke=\"#000000\" points=\"123.5001,-133.0033 120,-123.0034 116.5001,-133.0034 123.5001,-133.0033\"/>\n<text text-anchor=\"middle\" x=\"139\" y=\"-144.8\" font-family=\"Times,serif\" font-size=\"14.00\" fill=\"#000000\">young</text>\n</g>\n<!-- yes4 -->\n<g id=\"node8\" class=\"node\">\n<title>yes4</title>\n<ellipse fill=\"none\" stroke=\"#000000\" cx=\"213\" cy=\"-105\" rx=\"27\" ry=\"18\"/>\n<text text-anchor=\"middle\" x=\"213\" y=\"-101.3\" font-family=\"Times,serif\" font-size=\"14.00\" fill=\"#000000\">yes</text>\n</g>\n<!-- age&#45;&gt;yes4 -->\n<g id=\"edge7\" class=\"edge\">\n<title>age&#45;&gt;yes4</title>\n<path fill=\"none\" stroke=\"#000000\" d=\"M137.0169,-177.9249C144.7597,-171.3913 153.9671,-163.4388 162,-156 171.7617,-146.9604 182.2055,-136.6393 191.0837,-127.6575\"/>\n<polygon fill=\"#000000\" stroke=\"#000000\" points=\"193.6165,-130.0736 198.1239,-120.4853 188.621,-125.17 193.6165,-130.0736\"/>\n<text text-anchor=\"middle\" x=\"219\" y=\"-144.8\" font-family=\"Times,serif\" font-size=\"14.00\" fill=\"#000000\">pre&#45;presbyopic</text>\n</g>\n<!-- yes2 -->\n<g id=\"node6\" class=\"node\">\n<title>yes2</title>\n<ellipse fill=\"none\" stroke=\"#000000\" cx=\"84\" cy=\"-18\" rx=\"27\" ry=\"18\"/>\n<text text-anchor=\"middle\" x=\"84\" y=\"-14.3\" font-family=\"Times,serif\" font-size=\"14.00\" fill=\"#000000\">yes</text>\n</g>\n<!-- astigmatic&#45;&gt;yes2 -->\n<g id=\"edge5\" class=\"edge\">\n<title>astigmatic&#45;&gt;yes2</title>\n<path fill=\"none\" stroke=\"#000000\" d=\"M112.5408,-86.9735C107.5027,-74.7983 100.7637,-58.5122 95.0991,-44.8228\"/>\n<polygon fill=\"#000000\" stroke=\"#000000\" points=\"98.2617,-43.3116 91.204,-35.4097 91.7935,-45.9881 98.2617,-43.3116\"/>\n<text text-anchor=\"middle\" x=\"116\" y=\"-57.8\" font-family=\"Times,serif\" font-size=\"14.00\" fill=\"#000000\">fine</text>\n</g>\n<!-- no3 -->\n<g id=\"node7\" class=\"node\">\n<title>no3</title>\n<ellipse fill=\"none\" stroke=\"#000000\" cx=\"156\" cy=\"-18\" rx=\"27\" ry=\"18\"/>\n<text text-anchor=\"middle\" x=\"156\" y=\"-14.3\" font-family=\"Times,serif\" font-size=\"14.00\" fill=\"#000000\">no</text>\n</g>\n<!-- astigmatic&#45;&gt;no3 -->\n<g id=\"edge6\" class=\"edge\">\n<title>astigmatic&#45;&gt;no3</title>\n<path fill=\"none\" stroke=\"#000000\" d=\"M127.4592,-86.9735C132.4973,-74.7983 139.2363,-58.5122 144.9009,-44.8228\"/>\n<polygon fill=\"#000000\" stroke=\"#000000\" points=\"148.2065,-45.9881 148.796,-35.4097 141.7383,-43.3116 148.2065,-45.9881\"/>\n<text text-anchor=\"middle\" x=\"160.5\" y=\"-57.8\" font-family=\"Times,serif\" font-size=\"14.00\" fill=\"#000000\">notfine</text>\n</g>\n</g>\n</svg>\n"
          },
          "metadata": {},
          "execution_count": 45
        }
      ],
      "source": [
        "g"
      ]
    },
    {
      "cell_type": "code",
      "source": [
        "print(g.source)\n",
        "# print(df2)"
      ],
      "metadata": {
        "id": "1RNR_M2AMc0I",
        "colab": {
          "base_uri": "https://localhost:8080/"
        },
        "outputId": "1058e9ee-a479-45d4-f2de-74c3e85c5338"
      },
      "execution_count": 46,
      "outputs": [
        {
          "output_type": "stream",
          "name": "stdout",
          "text": [
            "digraph {\n",
            "\ttear [label=tear]\n",
            "\tno0 [label=no]\n",
            "\ttear -> no0 [label=reduced]\n",
            "\tage [label=age]\n",
            "\ttear -> age [label=normal]\n",
            "\tno1 [label=no]\n",
            "\tage -> no1 [label=presbyopic]\n",
            "\tastigmatic [label=astigmatic]\n",
            "\tage -> astigmatic [label=young]\n",
            "\tyes2 [label=yes]\n",
            "\tastigmatic -> yes2 [label=fine]\n",
            "\tno3 [label=no]\n",
            "\tastigmatic -> no3 [label=notfine]\n",
            "\tyes4 [label=yes]\n",
            "\tage -> yes4 [label=\"pre-presbyopic\"]\n",
            "}\n"
          ]
        }
      ]
    },
    {
      "cell_type": "code",
      "execution_count": 47,
      "metadata": {
        "id": "hhpBoLvt0MxU",
        "colab": {
          "base_uri": "https://localhost:8080/"
        },
        "outputId": "5b2a88ce-86d9-4fb3-c52f-eb9479a41295"
      },
      "outputs": [
        {
          "output_type": "stream",
          "name": "stdout",
          "text": [
            "['no', 'yes', 'no', 'yes', 'no', 'no', 'no', 'no']\n"
          ]
        }
      ],
      "source": [
        "l=node_test(testing_data,main_root)\n",
        "print(l)"
      ]
    },
    {
      "cell_type": "code",
      "source": [
        "def accuracy(pred,orig):\n",
        "  a=len(orig)\n",
        "  correct=0\n",
        "  for i in range(a):\n",
        "    if orig[i]==pred[i]:\n",
        "      correct+=1\n",
        "  return (correct/a)*100\n",
        "\n"
      ],
      "metadata": {
        "id": "Ryq7WykbRn3v"
      },
      "execution_count": 56,
      "outputs": []
    },
    {
      "cell_type": "code",
      "source": [
        "print(\"Accuracy Of Model:\", accuracy(l,testing_data[target].tolist()))"
      ],
      "metadata": {
        "colab": {
          "base_uri": "https://localhost:8080/"
        },
        "id": "GRsYfRWFcIYe",
        "outputId": "f2eb70e8-6cda-4d88-e485-eb7986c768aa"
      },
      "execution_count": 58,
      "outputs": [
        {
          "output_type": "stream",
          "name": "stdout",
          "text": [
            "Accuracy Of Model: 62.5\n"
          ]
        }
      ]
    },
    {
      "cell_type": "code",
      "source": [
        "# print(testing_data[target].tolist())\n"
      ],
      "metadata": {
        "id": "dS6D8zx_cKNy"
      },
      "execution_count": 57,
      "outputs": []
    }
  ],
  "metadata": {
    "colab": {
      "provenance": []
    },
    "kernelspec": {
      "display_name": "Python 3",
      "name": "python3"
    },
    "language_info": {
      "name": "python"
    }
  },
  "nbformat": 4,
  "nbformat_minor": 0
}